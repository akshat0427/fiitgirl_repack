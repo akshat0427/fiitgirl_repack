{
 "cells": [
  {
   "cell_type": "code",
   "execution_count": 7,
   "id": "d48fc17a-5c76-4460-8a04-3ae2f5b95c17",
   "metadata": {},
   "outputs": [],
   "source": [
    "import requests\n",
    "\n",
    "\n",
    "from bs4 import BeautifulSoup\n",
    "\n",
    "\n",
    "\n",
    "base_url = \"https://fitgirl-repacks.site/all-my-repacks-a-z/\"\n",
    "\n",
    "\n",
    "o = requests.get(base_url).text\n",
    "\n",
    "\n",
    "\n"
   ]
  },
  {
   "cell_type": "code",
   "execution_count": null,
   "id": "6258f614-a138-4fca-adb7-06a295dae366",
   "metadata": {},
   "outputs": [],
   "source": [
    "\n"
   ]
  },
  {
   "cell_type": "code",
   "execution_count": 22,
   "id": "ddef5d17-4283-4af0-966e-2adc1241bd9f",
   "metadata": {},
   "outputs": [],
   "source": [
    "data = []\n",
    "for i in site_data:\n",
    "    soup = BeautifulSoup(i, \"html5lib\")\n",
    "    \n",
    "    \n",
    "    t =  soup.find(\"div\", class_=\"entry-content\")\n",
    "\n",
    "    for j in t.find_all(\"li\"):\n",
    "\n",
    "        data.append([j.a, j.text])\n",
    "    del soup \n",
    "    del t"
   ]
  },
  {
   "cell_type": "code",
   "execution_count": 16,
   "id": "32e1616e-d82a-46cd-afae-2230f893138f",
   "metadata": {},
   "outputs": [
    {
     "data": {
      "text/plain": [
       "[]"
      ]
     },
     "execution_count": 16,
     "metadata": {},
     "output_type": "execute_result"
    }
   ],
   "source": []
  },
  {
   "cell_type": "code",
   "execution_count": 13,
   "id": "42930185-69db-40da-a8f9-1d6ccd605443",
   "metadata": {},
   "outputs": [],
   "source": [
    "site_data= []\n",
    "\n",
    "\n",
    "#data\n",
    "\n"
   ]
  },
  {
   "cell_type": "code",
   "execution_count": 17,
   "id": "e7fc5973-53ce-4cd2-8fcf-988ece6d2373",
   "metadata": {},
   "outputs": [],
   "source": [
    "site_data.append(o)"
   ]
  },
  {
   "cell_type": "code",
   "execution_count": 18,
   "id": "6270939d-f93e-43cc-ad69-f68fc2d25924",
   "metadata": {},
   "outputs": [
    {
     "name": "stdout",
     "output_type": "stream",
     "text": [
      "completed  10\n",
      "completed  20\n",
      "completed  30\n",
      "completed  40\n",
      "completed  50\n",
      "completed  60\n",
      "completed  70\n",
      "completed  80\n",
      "completed  90\n",
      "91\n"
     ]
    }
   ],
   "source": [
    "import time\n",
    "for i in range(2, 91):\n",
    "    site_data.append(requests.get(f\"https://fitgirl-repacks.site/all-my-repacks-a-z/?lcp_page0={i}#lcp_instance_0\").text)\n",
    "    if i % 10 == 0:\n",
    "        print(\"completed \", i)\n",
    "        time.sleep(5)\n",
    "    \n",
    "print(len(site_data))\n",
    "    \n",
    "    \n"
   ]
  },
  {
   "cell_type": "code",
   "execution_count": 19,
   "id": "895eaa24-4fc9-45d8-9c0d-997952fcb66c",
   "metadata": {},
   "outputs": [
    {
     "data": {
      "text/plain": [
       "91"
      ]
     },
     "execution_count": 19,
     "metadata": {},
     "output_type": "execute_result"
    }
   ],
   "source": [
    "len(site_data)"
   ]
  },
  {
   "cell_type": "code",
   "execution_count": 20,
   "id": "a4b722ec-d996-4104-b531-cf4a93011042",
   "metadata": {},
   "outputs": [],
   "source": [
    "import re\n",
    "\n",
    "def search_keyword(kw, txt):\n",
    "    \n",
    "    pattern = re.compile(r'\\b{}\\b'.format(re.escape(kw.lower())))\n",
    "    match = re.search(pattern, txt.lower())\n",
    "    if match:\n",
    "        # print(keyword, text)\n",
    "        return True\n",
    "    else:\n",
    "        return False\n",
    "\n"
   ]
  },
  {
   "cell_type": "code",
   "execution_count": 23,
   "id": "99496f1c-e2c3-4b25-b6d8-2cef42a1a1d0",
   "metadata": {},
   "outputs": [
    {
     "name": "stdout",
     "output_type": "stream",
     "text": [
      "<a href=\"https://fitgirl-repacks.site/doom-doom-2-classic-bundle/\">DOOM + DOOM II: Classic Bundle – Bethesda.net v7155 (Jan 09, 2020) + 4 Add-ons</a>\n",
      "<a href=\"https://fitgirl-repacks.site/doom/\">DOOM – Final Repack (v6.66/Update 9)</a>\n",
      "<a href=\"https://fitgirl-repacks.site/doom-64/\">DOOM 64</a>\n",
      "<a href=\"https://fitgirl-repacks.site/doom-eternal/\">DOOM Eternal: Deluxe Edition – v6.66 Rev 2.2 + All DLCs + Bonus Content</a>\n",
      "<a href=\"https://fitgirl-repacks.site/doom-i-and-ii-enhanced/\">DOOM I + II: Enhanced + 16 Add-ons + Classic DOOMs</a>\n",
      "<a href=\"https://fitgirl-repacks.site/masquerade-the-baubles-of-doom/\">Masquerade: The Baubles of Doom – v20160501</a>\n"
     ]
    }
   ],
   "source": [
    "\n",
    "for i in data:\n",
    "\n",
    "    if search_keyword(\"doom\", i[1]) == True:\n",
    "        print(i[0])\n",
    "        \n",
    "    \n",
    "\n",
    "    "
   ]
  },
  {
   "cell_type": "code",
   "execution_count": null,
   "id": "01a0d06c-ebbd-44d3-bb97-6f9b3f0a1196",
   "metadata": {},
   "outputs": [],
   "source": []
  }
 ],
 "metadata": {
  "kernelspec": {
   "display_name": "Python 3 (ipykernel)",
   "language": "python",
   "name": "python3"
  },
  "language_info": {
   "codemirror_mode": {
    "name": "ipython",
    "version": 3
   },
   "file_extension": ".py",
   "mimetype": "text/x-python",
   "name": "python",
   "nbconvert_exporter": "python",
   "pygments_lexer": "ipython3",
   "version": "3.12.3"
  }
 },
 "nbformat": 4,
 "nbformat_minor": 5
}
